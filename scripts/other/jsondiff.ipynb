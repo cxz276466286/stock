{
 "cells": [
  {
   "cell_type": "code",
   "execution_count": 3,
   "metadata": {},
   "outputs": [
    {
     "name": "stdout",
     "output_type": "stream",
     "text": [
      "{'dictionary_item_added': [<root[5] t1:not present, t2:5>, <root[6] t1:not present, t2:6>], 'dictionary_item_removed': [<root[4] t1:4, t2:not present>]}\n",
      "{'dictionary_item_added': [root[5], root[6]], 'dictionary_item_removed': [root[4]]}\n"
     ]
    }
   ],
   "source": [
    "from deepdiff import DeepDiff\n",
    "\n",
    "t1 = {1:1, 3:3, 4:4}\n",
    "t2 = {1:1, 3:3, 5:5, 6:6}\n",
    "ddiff = DeepDiff(t1, t2, view='tree')\n",
    "print(ddiff)\n",
    "ddiff = DeepDiff(t1, t2, view='text')\n",
    "print(ddiff)"
   ]
  },
  {
   "cell_type": "code",
   "execution_count": 4,
   "metadata": {},
   "outputs": [
    {
     "name": "stdout",
     "output_type": "stream",
     "text": [
      "Value of root['wechat'] changed from \"ISTE1024\" to \"ISTE1025\".\n",
      "Item root['Blog'] added to dictionary.\n",
      "Item root['Blog'] removed from dictionary.\n",
      "Type of root['wechat'] changed from str to int and value changed from \"ISTE1024\" to 1024.\n",
      "Type of root changed from dict to list and value changed from {'Author': '软件质量保障', 'wechat': 'ISTE1024'} to [{'Author': '软件质量保障', 'wechat': 'ISTE1024'}].\n"
     ]
    }
   ],
   "source": [
    "#!/usr/bin/env python\n",
    "# -*- encoding: utf-8 -*-\n",
    "'''\n",
    "@File    :   Demo001.py\n",
    "@Time    :   2021/06/27 11:45:35\n",
    "@Author  :   软件质量保障\n",
    "wechat   :   ISTE1024\n",
    "@Email   :   byteflow@163.com\n",
    "@Blog    :   https://www.zhihu.com/people/iloverain1024\n",
    "@Copyright : 侵权必究\n",
    "'''\n",
    "\n",
    "from deepdiff import DeepDiff\n",
    "\n",
    "t1 = {\n",
    "    'Author': '软件质量保障',\n",
    "    'wechat': 'ISTE1024'\n",
    "}\n",
    "\n",
    "t2 = {\n",
    "    'Author': '软件质量保障',\n",
    "    'wechat': 'ISTE1024',\n",
    "    'Blog'  : 'https://www.zhihu.com/people/iloverain1024'\n",
    "}\n",
    "\n",
    "t3 = {\n",
    "    'Author': '软件质量保障',\n",
    "    'wechat': 'ISTE1025'\n",
    "}\n",
    "\n",
    "t4 = {\n",
    "    'Author': '软件质量保障',\n",
    "    'wechat': 1024\n",
    "}\n",
    "\n",
    "t5 = [{\n",
    "    'Author': '软件质量保障',\n",
    "    'wechat': 'ISTE1024'\n",
    "}]\n",
    "\n",
    "# Key值不同\n",
    "print(DeepDiff(t1, t3).pretty())\n",
    "# Key新增\n",
    "print(DeepDiff(t1, t2).pretty())\n",
    "# Key减少\n",
    "print(DeepDiff(t2, t1).pretty())\n",
    "# Key值类型改变\n",
    "print(DeepDiff(t1, t4).pretty())\n",
    "# 结构不同\n",
    "print(DeepDiff(t1, t5).pretty())"
   ]
  },
  {
   "cell_type": "code",
   "execution_count": null,
   "metadata": {},
   "outputs": [],
   "source": []
  }
 ],
 "metadata": {
  "kernelspec": {
   "display_name": "Python 3",
   "language": "python",
   "name": "python3"
  },
  "language_info": {
   "codemirror_mode": {
    "name": "ipython",
    "version": 3
   },
   "file_extension": ".py",
   "mimetype": "text/x-python",
   "name": "python",
   "nbconvert_exporter": "python",
   "pygments_lexer": "ipython3",
   "version": "3.10.5"
  }
 },
 "nbformat": 4,
 "nbformat_minor": 2
}

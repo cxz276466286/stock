{
 "cells": [
  {
   "cell_type": "code",
   "execution_count": 4,
   "metadata": {},
   "outputs": [],
   "source": [
    "import pyautogui\n",
    "import time\n"
   ]
  },
  {
   "cell_type": "code",
   "execution_count": 16,
   "metadata": {},
   "outputs": [],
   "source": [
    "time.sleep(2)\n",
    "\n",
    "for i in range(30):\n",
    "    pyautogui.rightClick()\n",
    "    time.sleep(0.2)\n"
   ]
  },
  {
   "cell_type": "code",
   "execution_count": 17,
   "metadata": {},
   "outputs": [],
   "source": [
    "import win32api\n",
    "import win32con\n",
    "import win32gui\n",
    "import win32com.client\n"
   ]
  },
  {
   "cell_type": "code",
   "execution_count": null,
   "metadata": {},
   "outputs": [],
   "source": [
    "# 获取 Shell 对象\n",
    "shell = win32com.client.Dispatch(\"WScript.Shell\")\n",
    "\n",
    "# 获取当前活动窗口的句柄\n",
    "hwnd = win32gui.GetForegroundWindow()\n",
    "\n",
    "# 向当前活动窗口发送鼠标移动事件\n",
    "shell.SendKeys('{LEFT}')\n"
   ]
  },
  {
   "cell_type": "code",
   "execution_count": 18,
   "metadata": {},
   "outputs": [],
   "source": [
    "import pydirectinput\n"
   ]
  },
  {
   "cell_type": "code",
   "execution_count": 54,
   "metadata": {},
   "outputs": [],
   "source": [
    "time.sleep(3)\n",
    "\n",
    "for i in range(99):\n",
    "    pydirectinput.rightClick()\n",
    "    # pydirectinput.tripleClick(button=pydirectinput.RIGHT)\n",
    "    pydirectinput.keyDown('alt')\n",
    "    pydirectinput.keyDown('tab')\n",
    "    pydirectinput.keyUp('alt')\n",
    "    pydirectinput.keyUp('tab')\n",
    "\n",
    "    pydirectinput.keyDown('alt')\n",
    "    pydirectinput.keyDown('tab')\n",
    "    pydirectinput.keyUp('alt')\n",
    "    pydirectinput.keyUp('tab')"
   ]
  },
  {
   "cell_type": "code",
   "execution_count": null,
   "metadata": {},
   "outputs": [],
   "source": []
  }
 ],
 "metadata": {
  "kernelspec": {
   "display_name": "Python 3",
   "language": "python",
   "name": "python3"
  },
  "language_info": {
   "codemirror_mode": {
    "name": "ipython",
    "version": 3
   },
   "file_extension": ".py",
   "mimetype": "text/x-python",
   "name": "python",
   "nbconvert_exporter": "python",
   "pygments_lexer": "ipython3",
   "version": "3.10.5"
  },
  "orig_nbformat": 4
 },
 "nbformat": 4,
 "nbformat_minor": 2
}

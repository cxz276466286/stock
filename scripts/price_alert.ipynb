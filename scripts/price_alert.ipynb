{
 "cells": [
  {
   "cell_type": "code",
   "execution_count": null,
   "metadata": {},
   "outputs": [],
   "source": [
    "import tushare as ts\n",
    "import time\n",
    "import winsound\n",
    "\n",
    "codes = ['000957']\n",
    "warning_v = 10000\n",
    "\n",
    "def watch():\n",
    "    while True:\n",
    "        data = ts.get_realtime_quotes(codes)\n",
    "        for i, code in enumerate(codes):\n",
    "            # print(data)\n",
    "            b1_v = int(data['b1_v'][i]) if bool(data['b1_v'][i]) else 0\n",
    "            a1_v = int(data['a1_v'][i]) if bool(data['a1_v'][i]) else 0\n",
    "            name = data['name'][i]\n",
    "            print(name, b1_v, a1_v, warning_v)\n",
    "\n",
    "            if b1_v < warning_v and a1_v < warning_v:\n",
    "                print('WARNING:', name, code)\n",
    "                winsound.Beep(500, 800)\n",
    "\n",
    "        time.sleep(2.5)\n",
    "\n",
    "\n",
    "if __name__ == \"__main__\":\n",
    "    watch()"
   ]
  }
 ],
 "metadata": {
  "language_info": {
   "name": "python"
  },
  "orig_nbformat": 4
 },
 "nbformat": 4,
 "nbformat_minor": 2
}

{
 "cells": [
  {
   "cell_type": "code",
   "execution_count": 1,
   "metadata": {},
   "outputs": [],
   "source": [
    "import random\n",
    "import time\n",
    "import pyautogui"
   ]
  },
  {
   "cell_type": "code",
   "execution_count": 3,
   "metadata": {},
   "outputs": [],
   "source": [
    "tweens=[pyautogui.easeInQuad,pyautogui.easeOutQuad,pyautogui.easeInOutQuad,pyautogui.easeInBounce,pyautogui.easeInElastic]"
   ]
  },
  {
   "cell_type": "code",
   "execution_count": 4,
   "metadata": {},
   "outputs": [
    {
     "name": "stdout",
     "output_type": "stream",
     "text": [
      "8.646423695609924\n",
      "1592.848530505838 122.81676836061797 0.5644654452246741 <function easeInElastic at 0x000001B405FC9B40>\n",
      "4.577132605537876\n",
      "406.6344536702379 1144.0997923770335 0.20134833580458056 <function easeInQuad at 0x000001B405FC8DC0>\n",
      "1122.9553778572372 1067.5982238892336 0.7370120500849553 <function easeOutQuad at 0x000001B405FC8E50>\n",
      "1585.8274834132696 672.4037571783027 0.4329962853661915 <function easeInElastic at 0x000001B405FC9B40>\n",
      "7.084836355170986\n"
     ]
    },
    {
     "ename": "KeyboardInterrupt",
     "evalue": "",
     "output_type": "error",
     "traceback": [
      "\u001b[1;31m---------------------------------------------------------------------------\u001b[0m",
      "\u001b[1;31mKeyboardInterrupt\u001b[0m                         Traceback (most recent call last)",
      "Cell \u001b[1;32mIn[4], line 4\u001b[0m\n\u001b[0;32m      2\u001b[0m interval\u001b[39m=\u001b[39m\u001b[39m60\u001b[39m\u001b[39m*\u001b[39m\u001b[39m3\u001b[39m\u001b[39m+\u001b[39m\u001b[39m60\u001b[39m\u001b[39m*\u001b[39m\u001b[39m7\u001b[39m\u001b[39m*\u001b[39mrandom\u001b[39m.\u001b[39mrandom()\n\u001b[0;32m      3\u001b[0m \u001b[39mprint\u001b[39m(interval\u001b[39m/\u001b[39m\u001b[39m60\u001b[39m)\n\u001b[1;32m----> 4\u001b[0m time\u001b[39m.\u001b[39;49msleep(interval)\n\u001b[0;32m      5\u001b[0m \u001b[39mfor\u001b[39;00m _ \u001b[39min\u001b[39;00m \u001b[39mrange\u001b[39m(\u001b[39mint\u001b[39m(\u001b[39m5\u001b[39m\u001b[39m*\u001b[39mrandom\u001b[39m.\u001b[39mrandom())):\n\u001b[0;32m      6\u001b[0m     x\u001b[39m=\u001b[39m\u001b[39m1920\u001b[39m\u001b[39m*\u001b[39mrandom\u001b[39m.\u001b[39mrandom()\n",
      "\u001b[1;31mKeyboardInterrupt\u001b[0m: "
     ]
    }
   ],
   "source": [
    "while True:\n",
    "    interval=60*3+60*7*random.random()\n",
    "    print(interval/60)\n",
    "    time.sleep(interval)\n",
    "    for _ in range(int(5*random.random())):\n",
    "        x=1920*random.random()\n",
    "        y=1200*random.random()\n",
    "        d=random.random()\n",
    "        t=tweens[int(len(tweens)*random.random())]\n",
    "        print(x,y,d,t)\n",
    "        pyautogui.moveTo(x,y,duration=d,tween=t)\n"
   ]
  },
  {
   "cell_type": "code",
   "execution_count": null,
   "metadata": {},
   "outputs": [],
   "source": []
  }
 ],
 "metadata": {
  "kernelspec": {
   "display_name": "Python 3",
   "language": "python",
   "name": "python3"
  },
  "language_info": {
   "codemirror_mode": {
    "name": "ipython",
    "version": 3
   },
   "file_extension": ".py",
   "mimetype": "text/x-python",
   "name": "python",
   "nbconvert_exporter": "python",
   "pygments_lexer": "ipython3",
   "version": "3.10.5"
  },
  "orig_nbformat": 4
 },
 "nbformat": 4,
 "nbformat_minor": 2
}
